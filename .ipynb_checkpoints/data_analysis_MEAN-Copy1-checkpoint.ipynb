{
 "cells": [
  {
   "cell_type": "code",
   "execution_count": 1,
   "metadata": {},
   "outputs": [],
   "source": [
    "import os\n",
    "import glob\n",
    "import numpy             as np\n",
    "import matplotlib.pyplot as plt\n",
    "from datetime            import datetime\n",
    "from scipy.interpolate   import make_interp_spline"
   ]
  },
  {
   "cell_type": "code",
   "execution_count": 2,
   "metadata": {},
   "outputs": [],
   "source": [
    "def plotfunc_smooth(X_VALUES, Y_VALUES, TITLE = '', X_LABEL = '', Y_LABEL = ''):\n",
    "    #smoothed general function\n",
    "\n",
    "    %matplotlib notebook\n",
    "\n",
    "    title = TITLE\n",
    "\n",
    "    x_label = X_LABEL\n",
    "    y_label = Y_LABEL\n",
    "\n",
    "    x_values = X_VALUES\n",
    "    y_values = Y_VALUES\n",
    "\n",
    "    x_values = np.array(x_values)\n",
    "    y_values = np.array(y_values)\n",
    "\n",
    "    fig = plt.figure()\n",
    "    ax = fig.add_subplot(111)\n",
    "\n",
    "    #Spline:\n",
    "    X_Y_Spline = make_interp_spline(x_values, y_values)\n",
    "    X_ = np.linspace(x_values.min(), x_values.max(), 500)\n",
    "    Y_ = X_Y_Spline(X_)\n",
    "\n",
    "    ax.plot(X_, Y_, color='k', linestyle='-')\n",
    "\n",
    "    plt.xlabel('Point separation (mm)')\n",
    "    plt.ylabel('Proportion correct')\n",
    "\n",
    "    ax.spines['top'].set_visible(False)\n",
    "    ax.spines['right'].set_visible(False)\n",
    "\n",
    "    plt.show()\n",
    "    \n",
    "    return(X_Y_Spline)"
   ]
  },
  {
   "cell_type": "code",
   "execution_count": 3,
   "metadata": {},
   "outputs": [],
   "source": [
    "threshold = np.linspace(0.01, 60, 31)\n",
    "slope = np.linspace(0.01, 10, 50)\n",
    "gamma = np.linspace(0.01, 0.99, 100)\n",
    "delta = 0.02"
   ]
  },
  {
   "cell_type": "code",
   "execution_count": 4,
   "metadata": {},
   "outputs": [],
   "source": [
    "for fpath in glob.glob('vt*'):\n",
    "    print(fpath, datetime.fromtimestamp(os.path.getmtime(fpath)).isoformat(' ', 'seconds'))"
   ]
  },
  {
   "cell_type": "code",
   "execution_count": 5,
   "metadata": {},
   "outputs": [],
   "source": [
    "TSIDs = ['TS006', 'TS007']"
   ]
  },
  {
   "cell_type": "code",
   "execution_count": 6,
   "metadata": {},
   "outputs": [
    {
     "ename": "IndexError",
     "evalue": "list index out of range",
     "output_type": "error",
     "traceback": [
      "\u001b[1;31m---------------------------------------------------------------------------\u001b[0m",
      "\u001b[1;31mIndexError\u001b[0m                                Traceback (most recent call last)",
      "\u001b[1;32m<ipython-input-6-51ee6a60ab40>\u001b[0m in \u001b[0;36m<module>\u001b[1;34m\u001b[0m\n\u001b[0;32m      3\u001b[0m \u001b[0mi\u001b[0m\u001b[1;33m=\u001b[0m\u001b[1;36m0\u001b[0m\u001b[1;33m\u001b[0m\u001b[1;33m\u001b[0m\u001b[0m\n\u001b[0;32m      4\u001b[0m \u001b[1;32mfor\u001b[0m \u001b[0mID\u001b[0m \u001b[1;32min\u001b[0m \u001b[0mTSIDs\u001b[0m\u001b[1;33m:\u001b[0m\u001b[1;33m\u001b[0m\u001b[1;33m\u001b[0m\u001b[0m\n\u001b[1;32m----> 5\u001b[1;33m     \u001b[0mfile_paths\u001b[0m\u001b[1;33m.\u001b[0m\u001b[0mappend\u001b[0m\u001b[1;33m(\u001b[0m\u001b[0mos\u001b[0m\u001b[1;33m.\u001b[0m\u001b[0mpath\u001b[0m\u001b[1;33m.\u001b[0m\u001b[0mjoin\u001b[0m\u001b[1;33m(\u001b[0m\u001b[0mglob\u001b[0m\u001b[1;33m.\u001b[0m\u001b[0mglob\u001b[0m\u001b[1;33m(\u001b[0m\u001b[1;34m'vt*'\u001b[0m\u001b[1;33m)\u001b[0m\u001b[1;33m[\u001b[0m\u001b[1;36m0\u001b[0m\u001b[1;33m]\u001b[0m\u001b[1;33m,\u001b[0m \u001b[1;34m'DATA'\u001b[0m\u001b[1;33m,\u001b[0m \u001b[0mID\u001b[0m\u001b[1;33m)\u001b[0m\u001b[1;33m)\u001b[0m\u001b[1;33m\u001b[0m\u001b[1;33m\u001b[0m\u001b[0m\n\u001b[0m\u001b[0;32m      6\u001b[0m     \u001b[0mi\u001b[0m\u001b[1;33m=\u001b[0m\u001b[0mi\u001b[0m\u001b[1;33m+\u001b[0m\u001b[1;36m1\u001b[0m\u001b[1;33m\u001b[0m\u001b[1;33m\u001b[0m\u001b[0m\n\u001b[0;32m      7\u001b[0m \u001b[1;33m\u001b[0m\u001b[0m\n",
      "\u001b[1;31mIndexError\u001b[0m: list index out of range"
     ]
    }
   ],
   "source": [
    "file_paths = []\n",
    "\n",
    "i=0\n",
    "for ID in TSIDs:\n",
    "    file_paths.append(os.path.join(glob.glob('vt*')[0], 'DATA', ID))\n",
    "    i=i+1\n",
    "    \n",
    "print(file_paths)"
   ]
  },
  {
   "cell_type": "code",
   "execution_count": null,
   "metadata": {},
   "outputs": [],
   "source": [
    "for p in file_paths:\n",
    "    for file in os.listdir(p):\n",
    "        if os.path.splitext(file)[1] == '.npy':\n",
    "            if os.path.splitext(file)[0][14::][:-17] not in locals():\n",
    "                locals()[os.path.splitext(file)[0][14::][:-17]] = []\n",
    "            \n",
    "            locals()[os.path.splitext(file)[0][14::][:-17]].append(np.load(os.path.join(p, file), allow_pickle=True))\n",
    "        "
   ]
  },
  {
   "cell_type": "code",
   "execution_count": null,
   "metadata": {},
   "outputs": [],
   "source": [
    "#first TS\n",
    "\n",
    "spln = plotfunc_smooth(stimRange[0], postmean[0])"
   ]
  },
  {
   "cell_type": "code",
   "execution_count": null,
   "metadata": {},
   "outputs": [],
   "source": [
    "print(spln(eThreshold[0]))"
   ]
  },
  {
   "cell_type": "code",
   "execution_count": null,
   "metadata": {},
   "outputs": [],
   "source": [
    "#mean over postmean values\n",
    "\n",
    "spln = plotfunc_smooth(np.mean(stimRange, axis=0), np.mean(postmean, axis=0))"
   ]
  },
  {
   "cell_type": "code",
   "execution_count": null,
   "metadata": {},
   "outputs": [],
   "source": [
    "print(np.mean(eThreshold))\n",
    "print(spln(np.mean(eThreshold)))"
   ]
  },
  {
   "cell_type": "code",
   "execution_count": null,
   "metadata": {},
   "outputs": [],
   "source": [
    "meGuess = np.mean(eGuess)\n",
    "meLapse = np.mean(eLapse)\n",
    "meThreshold = np.mean(eThreshold)\n",
    "meSlope = np.mean(eSlope)\n",
    "\n",
    "mean_var_postmean = meGuess + (1 - meGuess - meLapse) * (1 - 2**((-(stimRange/meThreshold) ** meSlope)))\n",
    "\n",
    "print(stimRange)\n",
    "print(mean_var_postmean)"
   ]
  },
  {
   "cell_type": "code",
   "execution_count": null,
   "metadata": {},
   "outputs": [],
   "source": [
    "spln = plotfunc_smooth(stimRange[0], mean_var_postmean[0])"
   ]
  },
  {
   "cell_type": "code",
   "execution_count": null,
   "metadata": {},
   "outputs": [],
   "source": []
  }
 ],
 "metadata": {
  "kernelspec": {
   "display_name": "Python 3",
   "language": "python",
   "name": "python3"
  },
  "language_info": {
   "codemirror_mode": {
    "name": "ipython",
    "version": 3
   },
   "file_extension": ".py",
   "mimetype": "text/x-python",
   "name": "python",
   "nbconvert_exporter": "python",
   "pygments_lexer": "ipython3",
   "version": "3.7.4"
  }
 },
 "nbformat": 4,
 "nbformat_minor": 2
}
